{
    "metadata": {
        "kernelspec": {
            "name": "python3",
            "display_name": "Python 3 (ipykernel)",
            "language": "python"
        }
    },
    "nbformat": 4,
    "nbformat_minor": 2,
    "cells": [
        {
            "cell_type": "code",
            "execution_count": 2,
            "metadata": {},
            "outputs": [
                {
                    "ename": "SyntaxError",
                    "evalue": "invalid syntax (2060879658.py, line 3)",
                    "output_type": "error",
                    "traceback": [
                        "\u001b[0;36m  Cell \u001b[0;32mIn[1], line 3\u001b[0;36m\u001b[0m\n\u001b[0;31m    if\u001b[0m\n\u001b[0m       ^\u001b[0m\n\u001b[0;31mSyntaxError\u001b[0m\u001b[0;31m:\u001b[0m invalid syntax\n"
                    ]
                }
            ],
            "source": [
                "sdfdsf\n",
                "dsfdsf\n",
                "if \n",
                "end"
            ]
        },
        {
            "attachments": {},
            "cell_type": "markdown",
            "metadata": {},
            "source": [
                "```c\n",
                "#include \u003ciostream\u003e\n",
                "\n",
                "int main() {\n",
                "    std::cout \u003c\u003c \"Hello World!\";\n",
                "    return 0;\n",
                "}\n",
                "\n",
                "```\n",
                "\n",
                "\n",
                "\n",
                "**The Cauchy-Schwarz Inequality** \n",
                "\n",
                "\n",
                "$$\\left( \\sum_{k=1}^n a_k b_k \\right)^2 \\leq \\left( \\sum_{k=1}^n a_k^2 \\right) \\left( \\sum_{k=1}^n b_k^2 \\right)$$ \n",
                "\n",
                "\n",
                "| Syntax      | Description | Test Text     |\n",
                "| :---        |    :----:   |          ---: |\n",
                "| Header      | Title       | Here's this   |\n",
                "| Paragraph   | Text        | And more      |\n",
                "\n",
                "\n",
                "```\n",
                "arrayMax(A):\n",
                "|   Input: array A of n integers\n",
                "|   Output: maximum element of A\n",
                "|\n",
                "|   currentMax=A[0]\n",
                "| \tfor all i=1..n-1 do\n",
                "| \t|   if A[i]\u003ecurrentMax then\n",
                "| \t|   currentMax=A[i]\n",
                "| \t|   end if\n",
                "| \tend for\n",
                "    \n",
                "| \treturn currentMax\n",
                "```\n",
                "\n",
                "arrayMax(A):  \n",
                "|\t**Input** array A of n integers  \n",
                "|\t**Output** maximum element of A  \n",
                "|   \n",
                "|\tcurrentMax = A[0]  \n",
                "|\t**for all** i=1,..,n-1 **do**  \n",
                "|\t|\tif \n",
                "\n",
                "I am writing a project report in markdown. Use LaTeX inside the markdown to write formulas. Then I convert the markdown file to PDF with pandoc. All works like a charm.\n",
                "\n",
                "$$\n",
                "\\left(\\begin{array}{cc} \n",
                "0.8944272 \u0026 0.4472136\\\\\n",
                "-0.4472136 \u0026 -0.8944272\n",
                "\\end{array}\\right)\n",
                "\\left(\\begin{array}{cc} \n",
                "10 \u0026 0\\\\ \n",
                "0 \u0026 5\n",
                "\\end{array}\\right)\n",
                "$$ \n",
                "\n",
                "\u003e **assume** onTable \u0026subseteq; C, inHand \u0026subseteq; C  \n",
                "\u003e **let** highestOnTable = max {r | (s,r) \u0026in; onTable}  \n",
                "\u003e **for** (s, r) **in** inHand:  \n",
                "\u003e \u0026nbsp;\u0026nbsp;\u0026nbsp;\u0026nbsp;**if** r \u0026le; highestOnTable **return false**  \n",
                "\u003e **return true**\n",
                "\n",
                "$a_i$ $\\le$ \n",
                ""
            ]
        }
    ]
}
